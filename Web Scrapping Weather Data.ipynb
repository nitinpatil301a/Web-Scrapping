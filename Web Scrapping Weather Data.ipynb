{
 "cells": [
  {
   "cell_type": "code",
   "execution_count": 1,
   "metadata": {},
   "outputs": [],
   "source": [
    "import requests\n",
    "from bs4 import BeautifulSoup"
   ]
  },
  {
   "cell_type": "code",
   "execution_count": 3,
   "metadata": {},
   "outputs": [],
   "source": [
    "url=\"https://forecast.weather.gov/MapClick.php?lat=34.05349000000007&lon=-118.24531999999999#.XeXi9-gzbIU\"\n",
    "req=requests.get(url)\n",
    "soup=BeautifulSoup(req.content,'html.parser')"
   ]
  },
  {
   "cell_type": "code",
   "execution_count": 9,
   "metadata": {},
   "outputs": [],
   "source": [
    "week=soup.find(id=\"seven-day-forecast-body\")\n",
    "items=week.find_all(class_=\"tombstone-container\")"
   ]
  },
  {
   "cell_type": "code",
   "execution_count": 11,
   "metadata": {},
   "outputs": [],
   "source": [
    "period_names=[item.find(class_='period-name').get_text() for item in items]\n",
    "short_descriptions=[item.find(class_='short-desc').get_text() for item in items]\n",
    "temperatures=[item.find(class_='temp').get_text() for item in items]"
   ]
  },
  {
   "cell_type": "code",
   "execution_count": 13,
   "metadata": {},
   "outputs": [
    {
     "name": "stdout",
     "output_type": "stream",
     "text": [
      "['Tonight', 'Tuesday', 'TuesdayNight', 'Wednesday', 'WednesdayNight', 'Thursday', 'ThursdayNight', 'Friday', 'FridayNight']\n",
      "['Partly Cloudy', 'IncreasingClouds', 'Rain', 'Showers', 'ChanceShowers', 'Mostly Sunny', 'Mostly Cloudy', 'Mostly Sunny', 'Chance Rain']\n",
      "['Low: 50 °F', 'High: 69 °F', 'Low: 55 °F', 'High: 60 °F', 'Low: 52 °F', 'High: 62 °F', 'Low: 52 °F', 'High: 65 °F', 'Low: 51 °F']\n"
     ]
    }
   ],
   "source": [
    "print(period_names)\n",
    "print(short_descriptions)\n",
    "print(temperatures)"
   ]
  },
  {
   "cell_type": "code",
   "execution_count": 14,
   "metadata": {},
   "outputs": [],
   "source": [
    "import pandas as pd"
   ]
  },
  {
   "cell_type": "code",
   "execution_count": 17,
   "metadata": {},
   "outputs": [
    {
     "data": {
      "text/html": [
       "<div>\n",
       "<style scoped>\n",
       "    .dataframe tbody tr th:only-of-type {\n",
       "        vertical-align: middle;\n",
       "    }\n",
       "\n",
       "    .dataframe tbody tr th {\n",
       "        vertical-align: top;\n",
       "    }\n",
       "\n",
       "    .dataframe thead th {\n",
       "        text-align: right;\n",
       "    }\n",
       "</style>\n",
       "<table border=\"1\" class=\"dataframe\">\n",
       "  <thead>\n",
       "    <tr style=\"text-align: right;\">\n",
       "      <th></th>\n",
       "      <th>Temp</th>\n",
       "      <th>period</th>\n",
       "      <th>short_desc</th>\n",
       "    </tr>\n",
       "  </thead>\n",
       "  <tbody>\n",
       "    <tr>\n",
       "      <th>0</th>\n",
       "      <td>Low: 50 °F</td>\n",
       "      <td>Tonight</td>\n",
       "      <td>Partly Cloudy</td>\n",
       "    </tr>\n",
       "    <tr>\n",
       "      <th>1</th>\n",
       "      <td>High: 69 °F</td>\n",
       "      <td>Tuesday</td>\n",
       "      <td>IncreasingClouds</td>\n",
       "    </tr>\n",
       "    <tr>\n",
       "      <th>2</th>\n",
       "      <td>Low: 55 °F</td>\n",
       "      <td>TuesdayNight</td>\n",
       "      <td>Rain</td>\n",
       "    </tr>\n",
       "    <tr>\n",
       "      <th>3</th>\n",
       "      <td>High: 60 °F</td>\n",
       "      <td>Wednesday</td>\n",
       "      <td>Showers</td>\n",
       "    </tr>\n",
       "    <tr>\n",
       "      <th>4</th>\n",
       "      <td>Low: 52 °F</td>\n",
       "      <td>WednesdayNight</td>\n",
       "      <td>ChanceShowers</td>\n",
       "    </tr>\n",
       "    <tr>\n",
       "      <th>5</th>\n",
       "      <td>High: 62 °F</td>\n",
       "      <td>Thursday</td>\n",
       "      <td>Mostly Sunny</td>\n",
       "    </tr>\n",
       "    <tr>\n",
       "      <th>6</th>\n",
       "      <td>Low: 52 °F</td>\n",
       "      <td>ThursdayNight</td>\n",
       "      <td>Mostly Cloudy</td>\n",
       "    </tr>\n",
       "    <tr>\n",
       "      <th>7</th>\n",
       "      <td>High: 65 °F</td>\n",
       "      <td>Friday</td>\n",
       "      <td>Mostly Sunny</td>\n",
       "    </tr>\n",
       "    <tr>\n",
       "      <th>8</th>\n",
       "      <td>Low: 51 °F</td>\n",
       "      <td>FridayNight</td>\n",
       "      <td>Chance Rain</td>\n",
       "    </tr>\n",
       "  </tbody>\n",
       "</table>\n",
       "</div>"
      ],
      "text/plain": [
       "          Temp          period        short_desc\n",
       "0   Low: 50 °F         Tonight     Partly Cloudy\n",
       "1  High: 69 °F         Tuesday  IncreasingClouds\n",
       "2   Low: 55 °F    TuesdayNight              Rain\n",
       "3  High: 60 °F       Wednesday           Showers\n",
       "4   Low: 52 °F  WednesdayNight     ChanceShowers\n",
       "5  High: 62 °F        Thursday      Mostly Sunny\n",
       "6   Low: 52 °F   ThursdayNight     Mostly Cloudy\n",
       "7  High: 65 °F          Friday      Mostly Sunny\n",
       "8   Low: 51 °F     FridayNight       Chance Rain"
      ]
     },
     "execution_count": 17,
     "metadata": {},
     "output_type": "execute_result"
    }
   ],
   "source": [
    "weather_data=pd.DataFrame({'period':period_names,'short_desc':short_descriptions,'Temp':temperatures})\n",
    "weather_data"
   ]
  },
  {
   "cell_type": "code",
   "execution_count": null,
   "metadata": {},
   "outputs": [],
   "source": []
  }
 ],
 "metadata": {
  "kernelspec": {
   "display_name": "Python 3",
   "language": "python",
   "name": "python3"
  },
  "language_info": {
   "codemirror_mode": {
    "name": "ipython",
    "version": 3
   },
   "file_extension": ".py",
   "mimetype": "text/x-python",
   "name": "python",
   "nbconvert_exporter": "python",
   "pygments_lexer": "ipython3",
   "version": "3.6.4"
  }
 },
 "nbformat": 4,
 "nbformat_minor": 2
}
